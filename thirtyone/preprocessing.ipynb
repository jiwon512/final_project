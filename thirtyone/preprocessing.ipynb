{
 "cells": [
  {
   "cell_type": "markdown",
   "id": "cde1b808",
   "metadata": {},
   "source": [
    "# 광고목록"
   ]
  },
  {
   "cell_type": "markdown",
   "id": "40c5fc29",
   "metadata": {},
   "source": [
    "# 광고적립"
   ]
  },
  {
   "cell_type": "markdown",
   "id": "1be735a7",
   "metadata": {},
   "source": [
    "# 광고참여"
   ]
  },
  {
   "cell_type": "markdown",
   "id": "94ceabd0",
   "metadata": {},
   "source": []
  },
  {
   "cell_type": "markdown",
   "id": "59378abf",
   "metadata": {},
   "source": [
    "# 시간별 광고 적립"
   ]
  },
  {
   "cell_type": "markdown",
   "id": "c85faac3",
   "metadata": {},
   "source": []
  }
 ],
 "metadata": {
  "language_info": {
   "name": "python"
  }
 },
 "nbformat": 4,
 "nbformat_minor": 5
}
